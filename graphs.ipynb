{
 "metadata": {
  "language_info": {
   "codemirror_mode": {
    "name": "ipython",
    "version": 3
   },
   "file_extension": ".py",
   "mimetype": "text/x-python",
   "name": "python",
   "nbconvert_exporter": "python",
   "pygments_lexer": "ipython3",
   "version": "3.8.5-final"
  },
  "orig_nbformat": 2,
  "kernelspec": {
   "name": "python3",
   "display_name": "Python 3",
   "language": "python"
  }
 },
 "nbformat": 4,
 "nbformat_minor": 2,
 "cells": [
  {
   "cell_type": "code",
   "execution_count": 34,
   "metadata": {},
   "outputs": [],
   "source": [
    "import re\n",
    "import json"
   ]
  },
  {
   "cell_type": "code",
   "execution_count": 42,
   "metadata": {},
   "outputs": [],
   "source": [
    "regex = r\"Trainable params: ([0-9,]*)\""
   ]
  },
  {
   "cell_type": "code",
   "execution_count": 40,
   "metadata": {},
   "outputs": [],
   "source": [
    "def getNumTrainableParams(summary):\n",
    "    m = re.search(regex,summary)\n",
    "    num = m.group(1)\n",
    "    return int(num.replace(',',''))"
   ]
  },
  {
   "cell_type": "code",
   "execution_count": 32,
   "metadata": {},
   "outputs": [],
   "source": [
    "models1=[\"AttConvNet\"+str(i) for i in range(1,5)]\n",
    "models2=[\"ConvNet\"+str(i) for i in range(1,7)]\n",
    "models3=[\"DenseNet\"+str(i) for i in range(1,9)]\n",
    "models4=[\"NLNet\"+str(i) for i in range(1,4)]\n",
    "models=[]\n",
    "models.extend(models1)\n",
    "models.extend(models2)\n",
    "models.extend(models3)\n",
    "models.extend(models4)"
   ]
  },
  {
   "cell_type": "code",
   "execution_count": 35,
   "metadata": {},
   "outputs": [],
   "source": [
    "datasets=['Disney','Amazon','facebook','Enron']"
   ]
  },
  {
   "cell_type": "code",
   "execution_count": 36,
   "metadata": {},
   "outputs": [],
   "source": [
    "dataName = datasets[0]\n",
    "path = \"Results/\"+dataName+\"/results.json\"\n",
    "f = open(path)\n",
    "results = json.load(f)"
   ]
  },
  {
   "cell_type": "code",
   "execution_count": 55,
   "metadata": {},
   "outputs": [],
   "source": [
    "trainableParamsAuc = []\n",
    "for model in models:\n",
    "    auc = results[model]['auc_score']\n",
    "    trainableParams = getNumTrainableParams(results[model]['model_summary'])\n",
    "    trainableParamsAuc.append((trainableParams,auc))\n",
    "trainableParamsAuc = sorted(trainableParamsAuc)"
   ]
  },
  {
   "cell_type": "code",
   "execution_count": 48,
   "metadata": {},
   "outputs": [],
   "source": [
    "attConvNetAuc = []\n",
    "i=1\n",
    "for model in models1:\n",
    "    auc = results[model]['auc_score']\n",
    "    attConvNetAuc.append((i,auc))\n",
    "    i+=1"
   ]
  },
  {
   "cell_type": "code",
   "execution_count": 49,
   "metadata": {},
   "outputs": [],
   "source": [
    "convNetAuc = []\n",
    "i=1\n",
    "for model in models2:\n",
    "    auc = results[model]['auc_score']\n",
    "    convNetAuc.append((i,auc))\n",
    "    i+=1"
   ]
  },
  {
   "cell_type": "code",
   "execution_count": 50,
   "metadata": {},
   "outputs": [],
   "source": [
    "denseNetAuc = []\n",
    "i=1\n",
    "for model in models3:\n",
    "    auc = results[model]['auc_score']\n",
    "    denseNetAuc.append((i,auc))\n",
    "    i+=1"
   ]
  },
  {
   "cell_type": "code",
   "execution_count": 52,
   "metadata": {},
   "outputs": [],
   "source": [
    "nlNetAuc = []\n",
    "i=1\n",
    "for model in models4:\n",
    "    auc = results[model]['auc_score']\n",
    "    nlNetAuc.append((i,auc))\n",
    "    i+=1"
   ]
  },
  {
   "cell_type": "code",
   "execution_count": null,
   "metadata": {},
   "outputs": [],
   "source": []
  }
 ]
}